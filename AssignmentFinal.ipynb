{
 "cells": [
  {
   "cell_type": "code",
   "execution_count": 1,
   "metadata": {
    "collapsed": true
   },
   "outputs": [],
   "source": [
    "import copy\n",
    "import cv2 as cv\n",
    "import math\n",
    "from matplotlib import pyplot as plt\n",
    "import numpy as np\n",
    "from PIL import Image\n",
    "import pytesseract\n",
    "import os"
   ]
  },
  {
   "cell_type": "code",
   "execution_count": 12,
   "metadata": {
    "collapsed": true
   },
   "outputs": [],
   "source": [
    "def show_wait_destroy(winname, img):\n",
    "    \"\"\"\n",
    "    Function to display image and destroy window\n",
    "    \"\"\"\n",
    "    cv.imshow(winname, img)\n",
    "    cv.moveWindow(winname, 500, 0)\n",
    "    cv.waitKey(0)\n",
    "    cv.destroyWindow(winname)"
   ]
  },
  {
   "cell_type": "code",
   "execution_count": 13,
   "metadata": {
    "collapsed": true
   },
   "outputs": [],
   "source": [
    "def getHorizontalLines(image):\n",
    "    \"\"\"\n",
    "    This functions returns a binary image containing only Horizontal lines. \n",
    "    \"\"\"\n",
    "    cols = image.shape[1]\n",
    "    horizontal_size = int(cols / 5)\n",
    "    # Create structure element for extracting vertical lines through morphology operations\n",
    "    horizontalStructure = cv.getStructuringElement(cv.MORPH_RECT, (horizontal_size, 1))\n",
    "    \n",
    "    # Apply morphology operations\n",
    "    horizontal = cv.erode(image, horizontalStructure)\n",
    "    horizontal = cv.dilate(horizontal, horizontalStructure)\n",
    "\n",
    "    # Show extracted horizontal lines\n",
    "    show_wait_destroy(\"horizontal\", horizontal)\n",
    "    return horizontal"
   ]
  },
  {
   "cell_type": "code",
   "execution_count": 16,
   "metadata": {
    "collapsed": true
   },
   "outputs": [],
   "source": [
    "def getVerticalLines(image):\n",
    "    \"\"\"\n",
    "    This functions returns a binary image containing only Vertical lines.\n",
    "    \"\"\"\n",
    "    rows = image.shape[0]\n",
    "    verticalsize = int(rows / 5)\n",
    "    # Create structure element for extracting vertical lines through morphology operations\n",
    "    verticalStructure = cv.getStructuringElement(cv.MORPH_RECT, (1, verticalsize))\n",
    "\n",
    "    # Apply morphology operations\n",
    "    vertical = cv.erode(image, verticalStructure)\n",
    "    vertical = cv.dilate(vertical, verticalStructure)\n",
    "\n",
    "    # Show extracted vertical lines\n",
    "    show_wait_destroy(\"vertical\", vertical)\n",
    "    return vertical"
   ]
  },
  {
   "cell_type": "code",
   "execution_count": 27,
   "metadata": {
    "collapsed": true
   },
   "outputs": [],
   "source": [
    "def getFirstRow(image):\n",
    "    \"\"\"\n",
    "    Returns first horizontal row\n",
    "    \"\"\"\n",
    "    rows = image.shape[0]\n",
    "    cols = image.shape[1]\n",
    "    col_ref = int(cols/4)\n",
    "    for i in range(rows):\n",
    "        if image[i,col_ref] == 255:\n",
    "            return i"
   ]
  },
  {
   "cell_type": "code",
   "execution_count": 28,
   "metadata": {
    "collapsed": true
   },
   "outputs": [],
   "source": [
    "def getFirstCol(image):\n",
    "    \"\"\"\n",
    "    Returns first vertical row\n",
    "    \"\"\"\n",
    "    rows = image.shape[0]\n",
    "    cols = image.shape[1]\n",
    "    row_ref = int(rows/4)\n",
    "    for i in range(cols):\n",
    "        if image[row_ref,i] == 255:\n",
    "            return i"
   ]
  },
  {
   "cell_type": "code",
   "execution_count": 59,
   "metadata": {
    "collapsed": true
   },
   "outputs": [],
   "source": [
    "def readData(row,col,hlineimage,vlineimage,image):\n",
    "    \"\"\"\n",
    "    \n",
    "    \"\"\"\n",
    "    data = []\n",
    "    i = row + 8\n",
    "    j = col + 8\n",
    "    col_ref = int(hlineimage.shape[1]/4)\n",
    "    row_ref = int(vlineimage.shape[0]/4)\n",
    "    no_rows = hlineimage.shape[0]\n",
    "    no_cols = vlineimage.shape[1]\n",
    "    prev_row = row\n",
    "    prev_col = col\n",
    "    while i < no_rows:\n",
    "        if(hlineimage[i,col_ref]==255):\n",
    "            while j < no_cols:\n",
    "                if(vlineimage[i-10,j]==255):\n",
    "                    roi = image[prev_row:i+2,prev_col:j+2]\n",
    "                    show_wait_destroy(\"cropped images\", roi)\n",
    "                    text = pytesseract.image_to_string(roi)\n",
    "                    data.append(text)\n",
    "                    prev_col = j\n",
    "                    j = j + 7\n",
    "                else:\n",
    "                    j = j + 1\n",
    "            prev_row = i\n",
    "            i = i + 7\n",
    "            j = col + 8\n",
    "            prev_col = col\n",
    "        else:\n",
    "            i = i + 1\n",
    "    \n",
    "    return data"
   ]
  },
  {
   "cell_type": "code",
   "execution_count": 99,
   "metadata": {},
   "outputs": [
    {
     "name": "stdout",
     "output_type": "stream",
     "text": [
      "Enter image name or locationimgs/crop1.jpg\n"
     ]
    }
   ],
   "source": [
    "img_loc = input(\"Enter image name or location\");\n",
    "image = cv.imread(img_loc)\n",
    "show_wait_destroy(\"image\",image)\n",
    "gray_image = cv.cvtColor(image, cv.COLOR_BGR2GRAY)\n",
    "show_wait_destroy(\"gray\", gray_image)\n",
    "gray_invert = cv.bitwise_not(gray_image)\n",
    "show_wait_destroy(\"gray_invert\", gray_invert)\n",
    "image_binary = cv.adaptiveThreshold(gray_invert, 255, cv.ADAPTIVE_THRESH_MEAN_C, cv.THRESH_BINARY, 15, -2)\n",
    "show_wait_destroy(\"binary\", image_binary)"
   ]
  },
  {
   "cell_type": "code",
   "execution_count": 100,
   "metadata": {},
   "outputs": [],
   "source": [
    "horizontalLinesImage = getHorizontalLines(image_binary)\n",
    "verticalLinesImage = getVerticalLines(image_binary)"
   ]
  },
  {
   "cell_type": "code",
   "execution_count": 101,
   "metadata": {},
   "outputs": [],
   "source": [
    "row_pixel_ref = getFirstRow(horizontalLinesImage)\n",
    "col_pixel_ref = getFirstCol(verticalLinesImage)"
   ]
  },
  {
   "cell_type": "code",
   "execution_count": 102,
   "metadata": {},
   "outputs": [],
   "source": [
    "data = readData(row_pixel_ref,col_pixel_ref,horizontalLinesImage,verticalLinesImage,image)"
   ]
  },
  {
   "cell_type": "code",
   "execution_count": 103,
   "metadata": {},
   "outputs": [
    {
     "name": "stdout",
     "output_type": "stream",
     "text": [
      "16\n",
      "['', 'a as 1gsn', '', '', '', 'momma', '', 'R0', '', '', '', '', '', 'mags', '', '']\n"
     ]
    }
   ],
   "source": [
    "print(len(data))\n",
    "print(data)"
   ]
  },
  {
   "cell_type": "code",
   "execution_count": 91,
   "metadata": {},
   "outputs": [
    {
     "ename": "AttributeError",
     "evalue": "module 'cv2.cv2' has no attribute 'selectROI'",
     "output_type": "error",
     "traceback": [
      "\u001b[1;31m---------------------------------------------------------------------------\u001b[0m",
      "\u001b[1;31mAttributeError\u001b[0m                            Traceback (most recent call last)",
      "\u001b[1;32m<ipython-input-91-bed299500c71>\u001b[0m in \u001b[0;36m<module>\u001b[1;34m()\u001b[0m\n\u001b[1;32m----> 1\u001b[1;33m \u001b[0mhelp\u001b[0m\u001b[1;33m(\u001b[0m\u001b[0mcv\u001b[0m\u001b[1;33m.\u001b[0m\u001b[0mselectROI\u001b[0m\u001b[1;33m)\u001b[0m\u001b[1;33m\u001b[0m\u001b[0m\n\u001b[0m",
      "\u001b[1;31mAttributeError\u001b[0m: module 'cv2.cv2' has no attribute 'selectROI'"
     ]
    }
   ],
   "source": []
  }
 ],
 "metadata": {
  "kernelspec": {
   "display_name": "Python 3",
   "language": "python",
   "name": "python3"
  },
  "language_info": {
   "codemirror_mode": {
    "name": "ipython",
    "version": 3
   },
   "file_extension": ".py",
   "mimetype": "text/x-python",
   "name": "python",
   "nbconvert_exporter": "python",
   "pygments_lexer": "ipython3",
   "version": "3.6.1"
  }
 },
 "nbformat": 4,
 "nbformat_minor": 2
}
