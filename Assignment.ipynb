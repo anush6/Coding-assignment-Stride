{
 "cells": [
  {
   "cell_type": "code",
   "execution_count": 26,
   "metadata": {
    "collapsed": true
   },
   "outputs": [],
   "source": [
    "import copy\n",
    "import cv2 as cv\n",
    "import math\n",
    "from matplotlib import pyplot as plt\n",
    "import numpy as np\n",
    "from PIL import Image\n",
    "import pytesseract\n",
    "import os"
   ]
  },
  {
   "cell_type": "code",
   "execution_count": 36,
   "metadata": {
    "collapsed": true
   },
   "outputs": [],
   "source": [
    "def show_wait_destroy(winname, img):\n",
    "    cv.imshow(winname, img)\n",
    "    cv.moveWindow(winname, 500, 0)\n",
    "    cv.waitKey(0)\n",
    "    cv.destroyWindow(winname)"
   ]
  },
  {
   "cell_type": "code",
   "execution_count": 177,
   "metadata": {},
   "outputs": [],
   "source": [
    "image = cv.imread(\"imgs/crop.jpg\",cv.IMREAD_COLOR)\n",
    "show_wait_destroy(\"image\",image)\n",
    "gray = cv.cvtColor(image, cv.COLOR_BGR2GRAY)\n",
    "show_wait_destroy(\"gray\", gray)\n",
    "gray = cv.bitwise_not(gray)\n",
    "bw = cv.adaptiveThreshold(gray, 255, cv.ADAPTIVE_THRESH_MEAN_C, cv.THRESH_BINARY, 15, -2)\n",
    "show_wait_destroy(\"binary\", bw)\n",
    "# enlarge = cv2.resize(image_copy,None,fx=2.0, fy=2.0, interpolation = cv2.INTER_CUBIC)\n",
    "# cv2.imshow(\"image\",enlarge)\n",
    "# cv2.waitKey(0)\n",
    "# denoiced_image = cv2.fastNlMeansDenoisingColored(image_copy,None,10,10,7,21)\n",
    "# cv2.imshow(\"denoiced_image\",denoiced_image)\n",
    "# cv2.waitKey(0)\n"
   ]
  },
  {
   "cell_type": "code",
   "execution_count": 178,
   "metadata": {},
   "outputs": [],
   "source": [
    "horizontal = np.copy(bw)\n",
    "vertical = np.copy(bw)\n",
    "cols = horizontal.shape[1]\n",
    "horizontal_size = int(cols / 5)\n",
    "horizontalStructure = cv.getStructuringElement(cv.MORPH_RECT, (horizontal_size, 1))\n",
    "# Apply morphology operations\n",
    "horizontal = cv.erode(horizontal, horizontalStructure)\n",
    "horizontal = cv.dilate(horizontal, horizontalStructure)\n",
    "\n",
    "# Show extracted horizontal lines\n",
    "show_wait_destroy(\"horizontal\", horizontal)"
   ]
  },
  {
   "cell_type": "code",
   "execution_count": 179,
   "metadata": {},
   "outputs": [],
   "source": [
    "rows = vertical.shape[0]\n",
    "verticalsize = int(rows / 5)\n",
    "# Create structure element for extracting vertical lines through morphology operations\n",
    "verticalStructure = cv.getStructuringElement(cv.MORPH_RECT, (1, verticalsize))\n",
    "\n",
    "# Apply morphology operations\n",
    "vertical = cv.erode(vertical, verticalStructure)\n",
    "vertical = cv.dilate(vertical, verticalStructure)\n",
    "\n",
    "# Show extracted vertical lines\n",
    "show_wait_destroy(\"vertical\", vertical)"
   ]
  },
  {
   "cell_type": "code",
   "execution_count": 180,
   "metadata": {},
   "outputs": [],
   "source": [
    "points = cv.bitwise_and(horizontal,vertical)\n",
    "show_wait_destroy(\"Points of Intersection\", points)"
   ]
  },
  {
   "cell_type": "code",
   "execution_count": 182,
   "metadata": {
    "collapsed": true
   },
   "outputs": [],
   "source": [
    "table = horizontal + vertical\n",
    "show_wait_destroy(\"table\",table)"
   ]
  },
  {
   "cell_type": "code",
   "execution_count": 79,
   "metadata": {},
   "outputs": [
    {
     "name": "stdout",
     "output_type": "stream",
     "text": [
      "(218, 857)\n"
     ]
    }
   ],
   "source": [
    "print(points.shape)"
   ]
  },
  {
   "cell_type": "code",
   "execution_count": 183,
   "metadata": {},
   "outputs": [],
   "source": [
    "x = 0\n",
    "y = 0\n",
    "co_ordinates = []\n",
    "temp = []\n",
    "while x < (points.shape[0]):\n",
    "    while y < (points.shape[1]):\n",
    "        if points[x,y] == 255:\n",
    "            temp.append((x,y))\n",
    "            y = y+5\n",
    "        else:\n",
    "            y = y+1\n",
    "    \n",
    "    if len(temp) != 0:\n",
    "        co_ordinates.append(temp)\n",
    "    x = x+1\n",
    "    y = 0    \n",
    "    temp = []        "
   ]
  },
  {
   "cell_type": "code",
   "execution_count": 84,
   "metadata": {},
   "outputs": [
    {
     "name": "stdout",
     "output_type": "stream",
     "text": [
      "[[(5, 9), (5, 38)], [(55, 8), (55, 38)], [(105, 8), (105, 37)], [(155, 8), (155, 37)], [(205, 8), (205, 37)]]\n"
     ]
    }
   ],
   "source": [
    "print(co_ordinates)"
   ]
  },
  {
   "cell_type": "code",
   "execution_count": 189,
   "metadata": {},
   "outputs": [],
   "source": [
    "x = 0\n",
    "y = 0\n",
    "new_image = np.copy(image)\n",
    "while x < table.shape[0]:\n",
    "    while y < table.shape[1]:\n",
    "        if table[x,y] == 255:\n",
    "            new_image[x,y,0] = 0\n",
    "            new_image[x,y,1] = 0\n",
    "            new_image[x,y,2] = 0\n",
    "        y = y+1\n",
    "    x = x+1\n",
    "    y = 0\n",
    "show_wait_destroy(\"newImage\", new_image)"
   ]
  },
  {
   "cell_type": "code",
   "execution_count": 152,
   "metadata": {
    "collapsed": true
   },
   "outputs": [],
   "source": [
    "text = pytesseract.image_to_string(new_image)"
   ]
  },
  {
   "cell_type": "code",
   "execution_count": null,
   "metadata": {},
   "outputs": [],
   "source": [
    "himage = np.copy(table)\n",
    "line_image = np.copy(new_image)\n",
    "# gray = cv.cvtColor(himage, cv.COLOR_BGR2GRAY)\n",
    "# edges = cv.Canny(gray, 50, 150, apertureSize=3)\n",
    "\n",
    "lines = cv.HoughLinesP(himage,1,np.pi/180,20,20)[0].tolist()\n",
    "lines = remove_duplicates(lines)\n",
    "for x1, y1, x2, y2 in lines:\n",
    "        cv.line(line_image, (x1, y1), (x2, y2), (0, 0, 255), 1)\n",
    "# for line in lines:\n",
    "#     coord = line[0]\n",
    "#     cv.line(line_image, (coord[0],coord[1]), (coord[2],coord[3]), [0,0,255], 2)\n",
    "#     show_wait_destroy(\"newImage\", line_image)\n",
    "    \n",
    "show_wait_destroy(\"newImage\", line_image)"
   ]
  },
  {
   "cell_type": "code",
   "execution_count": 194,
   "metadata": {
    "collapsed": true
   },
   "outputs": [],
   "source": [
    "def remove_duplicates(lines):\n",
    "    # remove duplicate lines (lines within 10 pixels of eachother)\n",
    "    for x1, y1, x2, y2 in lines:\n",
    "        for index, (x3, y3, x4, y4) in enumerate(lines):\n",
    "            if y1 == y2 and y3 == y4:\n",
    "                diff = abs(y1-y3)\n",
    "            elif x1 == x2 and x3 == x4:\n",
    "                diff = abs(x1-x3)\n",
    "            else:\n",
    "                diff = 0\n",
    "            if diff < 10 and diff is not 0:\n",
    "                del lines[index]\n",
    "    return lines"
   ]
  },
  {
   "cell_type": "code",
   "execution_count": 54,
   "metadata": {},
   "outputs": [],
   "source": [
    "# edges = cv.adaptiveThreshold(vertical, 255, cv.ADAPTIVE_THRESH_MEAN_C, cv.THRESH_BINARY, 3, -2)\n",
    "# show_wait_destroy(\"edges\", edges)\n",
    "\n",
    "\n",
    "# kernel = np.ones((2, 2), np.uint8)\n",
    "# edges = cv.dilate(edges, kernel)\n",
    "# show_wait_destroy(\"dilate\", edges)\n",
    "\n",
    "# smooth = np.copy(vertical)\n",
    "\n",
    "# smooth = cv.blur(smooth, (2, 2))\n",
    "\n",
    "# (rows, cols) = np.where(edges != 0)\n",
    "# vertical[rows, cols] = smooth[rows, cols]\n",
    "\n",
    "# show_wait_destroy(\"smooth - final\", vertical)\n",
    "# If we consider (0,0) as top left corner of image called im with \n",
    "# left-to-right as x direction and top-to-bottom as y direction. and we have (x1,y1) \n",
    "# as the top-left vertex and (x2,y2) as the bottom-right vertex of a rectangle region within that image, then:\n",
    "\n",
    "# roi = im[y1:y2, x1:x2]"
   ]
  }
 ],
 "metadata": {
  "kernelspec": {
   "display_name": "Python 3",
   "language": "python",
   "name": "python3"
  },
  "language_info": {
   "codemirror_mode": {
    "name": "ipython",
    "version": 3
   },
   "file_extension": ".py",
   "mimetype": "text/x-python",
   "name": "python",
   "nbconvert_exporter": "python",
   "pygments_lexer": "ipython3",
   "version": "3.6.1"
  }
 },
 "nbformat": 4,
 "nbformat_minor": 2
}
