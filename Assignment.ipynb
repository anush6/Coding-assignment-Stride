{
 "cells": [
  {
   "cell_type": "code",
   "execution_count": 26,
   "metadata": {
    "collapsed": true
   },
   "outputs": [],
   "source": [
    "import copy\n",
    "import cv2 as cv\n",
    "import math\n",
    "from matplotlib import pyplot as plt\n",
    "import numpy as np\n",
    "from PIL import Image\n",
    "import pytesseract\n",
    "import os"
   ]
  },
  {
   "cell_type": "code",
   "execution_count": 27,
   "metadata": {
    "collapsed": true
   },
   "outputs": [],
   "source": [
    "def show_wait_destroy(winname, img):\n",
    "    cv.imshow(winname, img)\n",
    "    cv.moveWindow(winname, 500, 0)\n",
    "    cv.waitKey(0)\n",
    "    cv.destroyWindow(winname)"
   ]
  },
  {
   "cell_type": "code",
   "execution_count": 28,
   "metadata": {},
   "outputs": [],
   "source": [
    "image = cv.imread(\"imgs/crop.jpg\",cv.IMREAD_COLOR)\n",
    "show_wait_destroy(\"image\",image)\n",
    "gray = cv.cvtColor(image, cv.COLOR_BGR2GRAY)\n",
    "show_wait_destroy(\"gray\", gray)\n",
    "gray = cv.bitwise_not(gray)\n",
    "bw = cv.adaptiveThreshold(gray, 255, cv.ADAPTIVE_THRESH_MEAN_C, cv.THRESH_BINARY, 15, -2)\n",
    "show_wait_destroy(\"binary\", bw)\n",
    "# enlarge = cv2.resize(image_copy,None,fx=2.0, fy=2.0, interpolation = cv2.INTER_CUBIC)\n",
    "# cv2.imshow(\"image\",enlarge)\n",
    "# cv2.waitKey(0)\n",
    "# denoiced_image = cv2.fastNlMeansDenoisingColored(image_copy,None,10,10,7,21)\n",
    "# cv2.imshow(\"denoiced_image\",denoiced_image)\n",
    "# cv2.waitKey(0)\n"
   ]
  },
  {
   "cell_type": "code",
   "execution_count": 29,
   "metadata": {},
   "outputs": [],
   "source": [
    "horizontal = np.copy(bw)\n",
    "vertical = np.copy(bw)\n",
    "cols = horizontal.shape[1]\n",
    "horizontal_size = int(cols / 30)\n",
    "horizontalStructure = cv.getStructuringElement(cv.MORPH_RECT, (horizontal_size, 1))\n",
    "# Apply morphology operations\n",
    "horizontal = cv.erode(horizontal, horizontalStructure)\n",
    "horizontal = cv.dilate(horizontal, horizontalStructure)\n",
    "\n",
    "# Show extracted horizontal lines\n",
    "show_wait_destroy(\"horizontal\", horizontal)"
   ]
  },
  {
   "cell_type": "code",
   "execution_count": 30,
   "metadata": {},
   "outputs": [],
   "source": [
    "rows = vertical.shape[0]\n",
    "verticalsize = int(rows / 5)\n",
    "# Create structure element for extracting vertical lines through morphology operations\n",
    "verticalStructure = cv.getStructuringElement(cv.MORPH_RECT, (1, verticalsize))\n",
    "\n",
    "# Apply morphology operations\n",
    "vertical = cv.erode(vertical, verticalStructure)\n",
    "vertical = cv.dilate(vertical, verticalStructure)\n",
    "\n",
    "# Show extracted vertical lines\n",
    "show_wait_destroy(\"vertical\", vertical)"
   ]
  },
  {
   "cell_type": "code",
   "execution_count": 23,
   "metadata": {},
   "outputs": [],
   "source": [
    "# Inverse vertical image\n",
    "vertical = cv.bitwise_not(vertical)\n",
    "show_wait_destroy(\"vertical_bit\", vertical)"
   ]
  },
  {
   "cell_type": "code",
   "execution_count": 32,
   "metadata": {},
   "outputs": [],
   "source": [
    "joints = cv.bitwise_and(horizontal,vertical)\n",
    "show_wait_destroy(\"Points of Intersection\", joints)"
   ]
  },
  {
   "cell_type": "code",
   "execution_count": 54,
   "metadata": {},
   "outputs": [],
   "source": [
    "# edges = cv.adaptiveThreshold(vertical, 255, cv.ADAPTIVE_THRESH_MEAN_C, cv.THRESH_BINARY, 3, -2)\n",
    "# show_wait_destroy(\"edges\", edges)\n",
    "\n",
    "\n",
    "# kernel = np.ones((2, 2), np.uint8)\n",
    "# edges = cv.dilate(edges, kernel)\n",
    "# show_wait_destroy(\"dilate\", edges)\n",
    "\n",
    "# smooth = np.copy(vertical)\n",
    "\n",
    "# smooth = cv.blur(smooth, (2, 2))\n",
    "\n",
    "# (rows, cols) = np.where(edges != 0)\n",
    "# vertical[rows, cols] = smooth[rows, cols]\n",
    "\n",
    "# show_wait_destroy(\"smooth - final\", vertical)"
   ]
  }
 ],
 "metadata": {
  "kernelspec": {
   "display_name": "Python 3",
   "language": "python",
   "name": "python3"
  },
  "language_info": {
   "codemirror_mode": {
    "name": "ipython",
    "version": 3
   },
   "file_extension": ".py",
   "mimetype": "text/x-python",
   "name": "python",
   "nbconvert_exporter": "python",
   "pygments_lexer": "ipython3",
   "version": "3.6.1"
  }
 },
 "nbformat": 4,
 "nbformat_minor": 2
}
